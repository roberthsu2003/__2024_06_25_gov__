{
 "cells": [
  {
   "cell_type": "code",
   "execution_count": null,
   "metadata": {},
   "outputs": [],
   "source": [
    "i = 0\n",
    "while i <= 10:\n",
    "    print(i)\n",
    "    i += 1"
   ]
  },
  {
   "cell_type": "code",
   "execution_count": null,
   "metadata": {},
   "outputs": [],
   "source": [
    "i = 0\n",
    "while True:\n",
    "    if i >= 10:\n",
    "        break\n",
    "    print(i)\n",
    "    i += 1"
   ]
  },
  {
   "cell_type": "code",
   "execution_count": 3,
   "metadata": {},
   "outputs": [
    {
     "name": "stdout",
     "output_type": "stream",
     "text": [
      "分數不可以大於300\n",
      "分數不可以小於零\n",
      "轉換int錯誤\n",
      "學生分數是300\n"
     ]
    }
   ],
   "source": [
    "#學生總分為300\n",
    "#有些學生可以加分5%\n",
    "while True:\n",
    "    try:\n",
    "        scores = int(input(\"請輸入學生分數(最高300分)\"))\n",
    "        if scores < 0:\n",
    "            print(\"分數不可以小於零\")\n",
    "        else:\n",
    "            if scores > 300:\n",
    "                print(\"分數不可以大於300\")\n",
    "            else:\n",
    "                break    \n",
    "    except ValueError:\n",
    "        print(\"轉換int錯誤\")\n",
    "    except Exception:\n",
    "        print(\"其它錯誤\")\n",
    "\n",
    "\n",
    "is_add = input(\"學生是曾否符合加分條件?(y,n)\")\n",
    "\n",
    "if is_add == \"y\": #單項選擇\n",
    "    scores *= 1.05\n",
    "    if scores > 300:\n",
    "        scores = 300\n",
    "\n",
    "print(f\"學生分數是{round(scores)}\")"
   ]
  },
  {
   "cell_type": "code",
   "execution_count": null,
   "metadata": {},
   "outputs": [],
   "source": [
    "#學生總分為300\n",
    "#有些學生可以加分5%\n",
    "while True:\n",
    "    try:\n",
    "        scores = int(input(\"請輸入學生分數(最高300分)\"))\n",
    "        if scores < 0:\n",
    "            print(\"分數不可以小於零\")\n",
    "        elif scores > 300:\n",
    "            print(\"分數不可以大於300\")\n",
    "        else:\n",
    "            break    \n",
    "    except ValueError:\n",
    "        print(\"轉換int錯誤\")\n",
    "    except Exception:\n",
    "        print(\"其它錯誤\")\n",
    "\n",
    "\n",
    "is_add = input(\"學生是曾否符合加分條件?(y,n)\")\n",
    "\n",
    "if is_add == \"y\": #單項選擇\n",
    "    scores *= 1.05\n",
    "    if scores > 300:\n",
    "        scores = 300\n",
    "\n",
    "print(f\"學生分數是{round(scores)}\")"
   ]
  },
  {
   "cell_type": "code",
   "execution_count": 4,
   "metadata": {},
   "outputs": [
    {
     "name": "stdout",
     "output_type": "stream",
     "text": [
      "分數不可以小於0\n",
      "分數不可以大於300\n",
      "轉換int錯誤\n",
      "學生分數是270\n"
     ]
    }
   ],
   "source": [
    "#學生總分為300\n",
    "#有些學生可以加分5%\n",
    "while True:\n",
    "    try:\n",
    "        scores = int(input(\"請輸入學生分數(最高300分)\"))\n",
    "        if scores < 0:\n",
    "            raise Exception(\"分數不可以小於0\")\n",
    "        if scores > 300:\n",
    "            raise Exception(\"分數不可以大於300\")\n",
    "        break\n",
    "         \n",
    "    except ValueError:\n",
    "        print(\"轉換int錯誤\")\n",
    "    except Exception as e:\n",
    "        print(e)\n",
    "\n",
    "\n",
    "is_add = input(\"學生是曾否符合加分條件?(y,n)\")\n",
    "\n",
    "if is_add == \"y\": #單項選擇\n",
    "    scores *= 1.05\n",
    "    if scores > 300:\n",
    "        scores = 300\n",
    "\n",
    "print(f\"學生分數是{round(scores)}\")"
   ]
  }
 ],
 "metadata": {
  "kernelspec": {
   "display_name": "Python 3",
   "language": "python",
   "name": "python3"
  },
  "language_info": {
   "codemirror_mode": {
    "name": "ipython",
    "version": 3
   },
   "file_extension": ".py",
   "mimetype": "text/x-python",
   "name": "python",
   "nbconvert_exporter": "python",
   "pygments_lexer": "ipython3",
   "version": "3.12.3"
  }
 },
 "nbformat": 4,
 "nbformat_minor": 2
}
