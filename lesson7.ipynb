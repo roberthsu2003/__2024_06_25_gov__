{
 "cells": [
  {
   "cell_type": "code",
   "execution_count": 1,
   "metadata": {},
   "outputs": [
    {
     "name": "stdout",
     "output_type": "stream",
     "text": [
      "60~79\n"
     ]
    }
   ],
   "source": [
    "score = 78\n",
    "\n",
    "if score >= 60:\n",
    "    if score < 80:\n",
    "        print(\"60~79\")"
   ]
  },
  {
   "cell_type": "code",
   "execution_count": 4,
   "metadata": {},
   "outputs": [
    {
     "name": "stdout",
     "output_type": "stream",
     "text": [
      "0~59 80-100\n"
     ]
    }
   ],
   "source": [
    "score = 92\n",
    "\n",
    "if score >= 60 and score < 80:    \n",
    "    print(\"60~79\")\n",
    "else:\n",
    "    print(\"0~59\",\"80-100\")"
   ]
  },
  {
   "cell_type": "code",
   "execution_count": 6,
   "metadata": {},
   "outputs": [
    {
     "name": "stdout",
     "output_type": "stream",
     "text": [
      "60~79\n"
     ]
    }
   ],
   "source": [
    "score = 75\n",
    "\n",
    "if score < 60 or score >= 80: \n",
    "    print(\"0~59\",\"80-100\")     \n",
    "else:\n",
    "    print(\"60~79\")\n",
    "    "
   ]
  }
 ],
 "metadata": {
  "kernelspec": {
   "display_name": "Python 3",
   "language": "python",
   "name": "python3"
  },
  "language_info": {
   "codemirror_mode": {
    "name": "ipython",
    "version": 3
   },
   "file_extension": ".py",
   "mimetype": "text/x-python",
   "name": "python",
   "nbconvert_exporter": "python",
   "pygments_lexer": "ipython3",
   "version": "3.12.3"
  }
 },
 "nbformat": 4,
 "nbformat_minor": 2
}
